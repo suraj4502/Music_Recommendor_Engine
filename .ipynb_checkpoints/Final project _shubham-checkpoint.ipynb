{
 "cells": [
  {
   "cell_type": "code",
   "execution_count": null,
   "id": "4e81a3a3",
   "metadata": {},
   "outputs": [],
   "source": [
    "import warnings\n",
    "import numpy as np\n",
    "import pandas as pd\n",
    "import matplotlib.pyplot as plt\n",
    "import seaborn as sns\n",
    "from tqdm import tqdm\n",
    "sns.set()\n",
    "\n",
    "import warnings\n",
    "warnings.filterwarnings('ignore')"
   ]
  },
  {
   "cell_type": "code",
   "execution_count": null,
   "id": "0e155568",
   "metadata": {
    "scrolled": true
   },
   "outputs": [],
   "source": [
    "df = pd.read_csv('Data/spotify.csv')\n",
    "df.head()"
   ]
  },
  {
   "cell_type": "markdown",
   "id": "51120b5a",
   "metadata": {},
   "source": [
    "# EXPLORATORY DATA ANALYSIS"
   ]
  },
  {
   "cell_type": "code",
   "execution_count": null,
   "id": "3778f8cd",
   "metadata": {},
   "outputs": [],
   "source": [
    "df.info()"
   ]
  },
  {
   "cell_type": "code",
   "execution_count": null,
   "id": "dbc96369",
   "metadata": {},
   "outputs": [],
   "source": [
    "df.shape"
   ]
  },
  {
   "cell_type": "code",
   "execution_count": null,
   "id": "e2ad8317",
   "metadata": {},
   "outputs": [],
   "source": [
    "df.isnull().sum()"
   ]
  },
  {
   "cell_type": "code",
   "execution_count": null,
   "id": "d56f57d6",
   "metadata": {},
   "outputs": [],
   "source": [
    "df.duplicated().sum()"
   ]
  },
  {
   "cell_type": "code",
   "execution_count": null,
   "id": "023d607b",
   "metadata": {
    "scrolled": true
   },
   "outputs": [],
   "source": [
    "# examine duplicated rows\n",
    "df.loc[df.duplicated(), :]"
   ]
  },
  {
   "cell_type": "code",
   "execution_count": null,
   "id": "c6f4f031",
   "metadata": {},
   "outputs": [],
   "source": [
    "data = df.drop_duplicates(keep=\"first\")"
   ]
  },
  {
   "cell_type": "code",
   "execution_count": null,
   "id": "5872a8d3",
   "metadata": {},
   "outputs": [],
   "source": [
    "data"
   ]
  },
  {
   "cell_type": "code",
   "execution_count": null,
   "id": "09c98acd",
   "metadata": {},
   "outputs": [],
   "source": [
    "df1 = df.drop(columns=['id', 'name', 'artists', 'release_date', 'year'])\n",
    "df1.corr()"
   ]
  },
  {
   "cell_type": "markdown",
   "id": "d280a155",
   "metadata": {},
   "source": [
    "#  VISUALIZATION"
   ]
  },
  {
   "cell_type": "code",
   "execution_count": null,
   "id": "71e08b5b",
   "metadata": {},
   "outputs": [],
   "source": [
    "from matplotlib import cm\n",
    "color = cm.inferno_r(np.linspace(.4, .8, 30))"
   ]
  },
  {
   "cell_type": "code",
   "execution_count": null,
   "id": "f8b287a9",
   "metadata": {
    "scrolled": true
   },
   "outputs": [],
   "source": [
    "plt.figure(figsize=(10,4))\n",
    "plt.title(\"Distribution of Popularity Variable.\")\n",
    "sns.distplot(data['popularity'],color='#8B1A1A');"
   ]
  },
  {
   "cell_type": "code",
   "execution_count": null,
   "id": "aa074e3f",
   "metadata": {
    "scrolled": true
   },
   "outputs": [],
   "source": [
    "plt.figure(figsize=(10,3))\n",
    "plt.title(\"Boxplot of Popularity Variable.\")\n",
    "sns.boxplot(data=data['popularity'],color='#8B1A1A',orient='horizontal');"
   ]
  },
  {
   "cell_type": "code",
   "execution_count": null,
   "id": "56950825",
   "metadata": {},
   "outputs": [],
   "source": [
    "data.columns"
   ]
  },
  {
   "cell_type": "code",
   "execution_count": null,
   "id": "b77a1613",
   "metadata": {
    "scrolled": true
   },
   "outputs": [],
   "source": [
    "plt.figure(figsize=(10,4))\n",
    "plt.title(\"Top 10 songs based on Popularity.\")\n",
    "data.groupby('name').mean()['popularity'].sort_values(ascending=False).head(10).plot(kind='bar',colormap='Paired');"
   ]
  },
  {
   "cell_type": "code",
   "execution_count": null,
   "id": "f9d1b59e",
   "metadata": {},
   "outputs": [],
   "source": [
    "plt.figure(figsize=(10,4))\n",
    "plt.title(\"Top 10 Artist based on Popularity.\")\n",
    "data.groupby('artists').mean()['popularity'].sort_values(ascending=False).head(10).plot(kind='bar',color=color,stacked=True)\n",
    "plt.xlabel('Artists',fontsize=10)\n",
    "plt.xticks(rotation=-70);"
   ]
  },
  {
   "cell_type": "code",
   "execution_count": null,
   "id": "32f3b06e",
   "metadata": {
    "scrolled": true
   },
   "outputs": [],
   "source": [
    "plt.figure(figsize=(12,4))\n",
    "plt.suptitle(\"Duration_ms Varialble Statisitics.\",fontsize=16)\n",
    "plt.subplot(1,2,1)\n",
    "sns.distplot(data['duration_ms'],color='#8B1A1A')\n",
    "plt.subplot(1,2,2)\n",
    "sns.boxplot(data['duration_ms'],color='#8B1A1A');"
   ]
  },
  {
   "cell_type": "code",
   "execution_count": null,
   "id": "a0c67caf",
   "metadata": {
    "scrolled": true
   },
   "outputs": [],
   "source": [
    "plt.figure(figsize=(12,4))\n",
    "plt.suptitle(\"danceability Varialble Statisitics.\",fontsize=16)\n",
    "plt.subplot(1,2,1)\n",
    "sns.distplot(data['danceability'],color='#8B1A1A')\n",
    "plt.subplot(1,2,2)\n",
    "sns.boxplot(data['danceability'],color='#8B1A1A');"
   ]
  },
  {
   "cell_type": "code",
   "execution_count": null,
   "id": "484f742f",
   "metadata": {
    "scrolled": true
   },
   "outputs": [],
   "source": [
    "plt.figure(figsize=(12,4))\n",
    "plt.suptitle(\"energy Varialble Statisitics.\",fontsize=16)\n",
    "plt.subplot(1,2,1)\n",
    "sns.distplot(df['energy'],color='#8B1A1A')\n",
    "plt.subplot(1,2,2)\n",
    "sns.boxplot(df['energy'],color='#8B1A1A');"
   ]
  },
  {
   "cell_type": "code",
   "execution_count": null,
   "id": "c55deac0",
   "metadata": {
    "scrolled": true
   },
   "outputs": [],
   "source": [
    "plt.figure(figsize=(12,4))\n",
    "plt.suptitle(\"key Varialble Statisitics.\",fontsize=16)\n",
    "plt.subplot(1,2,1)\n",
    "sns.distplot(data['key'],color='#8B1A1A')\n",
    "plt.subplot(1,2,2)\n",
    "sns.boxplot(data['key'],color='#8B1A1A');"
   ]
  },
  {
   "cell_type": "code",
   "execution_count": null,
   "id": "fd3dd45d",
   "metadata": {
    "scrolled": true
   },
   "outputs": [],
   "source": [
    "plt.figure(figsize=(12,4))\n",
    "plt.suptitle(\"loudness Varialble Statisitics.\",fontsize=16)\n",
    "plt.subplot(1,2,1)\n",
    "sns.distplot(data['loudness'],color='#8B1A1A')\n",
    "plt.subplot(1,2,2)\n",
    "sns.boxplot(data['loudness'],color='#8B1A1A');"
   ]
  },
  {
   "cell_type": "code",
   "execution_count": null,
   "id": "b94f8910",
   "metadata": {
    "scrolled": true
   },
   "outputs": [],
   "source": [
    "plt.figure(figsize=(12,4))\n",
    "plt.suptitle(\"speechiness Varialble Statisitics.\",fontsize=16)\n",
    "plt.subplot(1,2,1)\n",
    "sns.distplot(data['speechiness'],color='#8B1A1A')\n",
    "plt.subplot(1,2,2)\n",
    "sns.boxplot(data['speechiness'],color='#8B1A1A');"
   ]
  },
  {
   "cell_type": "code",
   "execution_count": null,
   "id": "30fd9ec1",
   "metadata": {},
   "outputs": [],
   "source": [
    "plt.figure(figsize=(12,4))\n",
    "plt.suptitle(\"acousticness Varialble Statisitics.\",fontsize=16)\n",
    "plt.subplot(1,2,1)\n",
    "sns.distplot(data['acousticness'],color='#8B1A1A')\n",
    "plt.subplot(1,2,2)\n",
    "sns.boxplot(data['acousticness'],color='#8B1A1A');"
   ]
  },
  {
   "cell_type": "code",
   "execution_count": null,
   "id": "c3566efc",
   "metadata": {
    "scrolled": true
   },
   "outputs": [],
   "source": [
    "plt.figure(figsize=(12,4))\n",
    "plt.suptitle(\"instrumentalness Varialble Statisitics.\",fontsize=16)\n",
    "plt.subplot(1,2,1)\n",
    "sns.distplot(data['instrumentalness'],color='#8B1A1A')\n",
    "plt.subplot(1,2,2)\n",
    "sns.boxplot(data['instrumentalness'],color='#8B1A1A');"
   ]
  },
  {
   "cell_type": "code",
   "execution_count": null,
   "id": "e33b0a7b",
   "metadata": {
    "scrolled": true
   },
   "outputs": [],
   "source": [
    "plt.figure(figsize=(12,4))\n",
    "plt.suptitle(\"liveness Varialble Statisitics.\",fontsize=16)\n",
    "plt.subplot(1,2,1)\n",
    "sns.distplot(data['liveness'],color='#8B1A1A')\n",
    "plt.subplot(1,2,2)\n",
    "sns.boxplot(data['liveness'],color='#8B1A1A');"
   ]
  },
  {
   "cell_type": "code",
   "execution_count": null,
   "id": "776ad561",
   "metadata": {
    "scrolled": true
   },
   "outputs": [],
   "source": [
    "plt.figure(figsize=(12,4))\n",
    "plt.suptitle(\"valence Varialble Statisitics.\",fontsize=16)\n",
    "plt.subplot(1,2,1)\n",
    "sns.distplot(data['valence'],color='#8B1A1A')\n",
    "plt.subplot(1,2,2)\n",
    "sns.boxplot(data['valence'],color='#8B1A1A');"
   ]
  },
  {
   "cell_type": "code",
   "execution_count": null,
   "id": "7cce2eaf",
   "metadata": {
    "scrolled": true
   },
   "outputs": [],
   "source": [
    "plt.figure(figsize=(12,4))\n",
    "plt.suptitle(\"tempo Varialble Statisitics.\",fontsize=16)\n",
    "plt.subplot(1,2,1)\n",
    "sns.distplot(data['tempo'],color='#8B1A1A')\n",
    "plt.subplot(1,2,2)\n",
    "sns.boxplot(data['tempo'],color='#8B1A1A');"
   ]
  },
  {
   "cell_type": "code",
   "execution_count": null,
   "id": "27098c52",
   "metadata": {},
   "outputs": [],
   "source": [
    "plt.figure(figsize=(15,12))\n",
    "sns.heatmap(df1.corr(),annot=True,cmap='Blues')\n",
    "plt.show()"
   ]
  },
  {
   "cell_type": "markdown",
   "id": "b4acc4b9",
   "metadata": {},
   "source": [
    "# MODEL BUILDING"
   ]
  },
  {
   "cell_type": "markdown",
   "id": "412c7b6b",
   "metadata": {},
   "source": [
    "## Content based Recommendation system"
   ]
  },
  {
   "cell_type": "code",
   "execution_count": null,
   "id": "d8fc988e",
   "metadata": {},
   "outputs": [],
   "source": [
    "from sklearn.preprocessing import MinMaxScaler\n",
    "datatypes = ['int16', 'int32', 'int64', 'float16', 'float32', 'float64']\n",
    "normarization = data.select_dtypes(include=datatypes)\n",
    "for col in normarization.columns:\n",
    "    MinMaxScaler(col)"
   ]
  },
  {
   "cell_type": "markdown",
   "id": "cbae1e9d",
   "metadata": {},
   "source": [
    "Here I will normalize all the numerical columns, for that, I will be selecting all the columns with int and float datatypes."
   ]
  },
  {
   "cell_type": "code",
   "execution_count": null,
   "id": "093acaae",
   "metadata": {},
   "outputs": [],
   "source": [
    "from sklearn.cluster import KMeans"
   ]
  },
  {
   "cell_type": "code",
   "execution_count": null,
   "id": "bb9ca275",
   "metadata": {},
   "outputs": [],
   "source": [
    "TWSS = []\n",
    "k = list(range(1, 15))\n",
    "\n",
    "for i in k:\n",
    "    kmeans = KMeans(n_clusters = i)\n",
    "    kmeans.fit(df1)\n",
    "    TWSS.append(kmeans.inertia_)"
   ]
  },
  {
   "cell_type": "code",
   "execution_count": null,
   "id": "de13152c",
   "metadata": {
    "scrolled": true
   },
   "outputs": [],
   "source": [
    "plt.plot(k, TWSS, 'ro-');plt.xlabel(\"No_of_Clusters\");plt.ylabel(\"total_within_SS\")"
   ]
  },
  {
   "cell_type": "code",
   "execution_count": null,
   "id": "559248ce",
   "metadata": {
    "scrolled": true
   },
   "outputs": [],
   "source": [
    "from sklearn.cluster import KMeans\n",
    "kmeans = KMeans(n_clusters=10)\n",
    "features = kmeans.fit_predict(normarization)\n",
    "data['features'] = features\n",
    "MinMaxScaler(data['features'])"
   ]
  },
  {
   "cell_type": "code",
   "execution_count": null,
   "id": "bcecc4e3",
   "metadata": {},
   "outputs": [],
   "source": [
    "model = KMeans(n_clusters = 10) \n",
    "model.fit(df1)"
   ]
  },
  {
   "cell_type": "code",
   "execution_count": null,
   "id": "18a3dfe9",
   "metadata": {},
   "outputs": [],
   "source": [
    "model.labels_ # getting the labels of clusters assigned to each row \n",
    "mb = pd.Series(model.labels_)  # converting numpy array into pandas series object \n",
    "df1['clust'] = mb # creating a  new column and assigning it to new column"
   ]
  },
  {
   "cell_type": "code",
   "execution_count": null,
   "id": "b2317981",
   "metadata": {},
   "outputs": [],
   "source": [
    "df1.head()"
   ]
  },
  {
   "cell_type": "code",
   "execution_count": null,
   "id": "0aa0017b",
   "metadata": {
    "scrolled": true
   },
   "outputs": [],
   "source": [
    "df2 = pd.concat([df1, data['name']], axis = 1)\n",
    "df2"
   ]
  },
  {
   "cell_type": "code",
   "execution_count": null,
   "id": "9c2f20b4",
   "metadata": {
    "scrolled": true
   },
   "outputs": [],
   "source": [
    "df3 = df2.dropna()"
   ]
  },
  {
   "cell_type": "code",
   "execution_count": null,
   "id": "3224c9e3",
   "metadata": {},
   "outputs": [],
   "source": [
    "df3[df3['clust']==0]"
   ]
  },
  {
   "cell_type": "code",
   "execution_count": null,
   "id": "976644ed",
   "metadata": {
    "scrolled": true
   },
   "outputs": [],
   "source": [
    "df3[df3['clust']==1]"
   ]
  },
  {
   "cell_type": "code",
   "execution_count": null,
   "id": "863041f0",
   "metadata": {},
   "outputs": [],
   "source": [
    "class Spotify_Recommendation():\n",
    "    def __init__(self, dataset):\n",
    "        self.dataset = dataset\n",
    "    def recommend(self, songs, amount=1):\n",
    "        distance = []\n",
    "        song = self.dataset[(self.dataset.name.str.lower() == songs.lower())].head(1).values[0]\n",
    "        rec = self.dataset[self.dataset.name.str.lower() != songs.lower()]\n",
    "        for songs in tqdm(rec.values):\n",
    "            d = 0\n",
    "            for col in np.arange(len(rec.columns)):\n",
    "                if not col in [1, 6, 12, 14, 18]:\n",
    "                    d = d + np.absolute(float(song[col]) - float(songs[col]))\n",
    "            distance.append(d)\n",
    "        rec['distance'] = distance\n",
    "        rec = rec.sort_values('distance')\n",
    "        columns = ['artists', 'name']\n",
    "        return rec[columns][:amount]"
   ]
  },
  {
   "cell_type": "code",
   "execution_count": null,
   "id": "9cf7d869-29d9-458b-a037-f0ca97ee21f2",
   "metadata": {},
   "outputs": [],
   "source": [
    "class Spotify_Recommendation():\n",
    "    def __init__(self, dataset):\n",
    "        self.dataset = dataset\n",
    "    def recommend(self, songs, amount=1):\n",
    "        distance = []\n",
    "        song = self.dataset[(self.dataset.name.str.lower() == songs.lower())].head(1).values[0]\n",
    "        dataset_without_the_song = self.dataset[self.dataset.name.str.lower() != songs.lower()]\n",
    "        for i in tqdm(dataset_without_the_song.values):\n",
    "            d = 0\n",
    "            for col in np.arange(len(dataset_without_the_song.columns)):\n",
    "                if not col in [1, 6, 12, 14, 18]:\n",
    "                    d = d + np.absolute(float(song[col]) - float(i[col]))\n",
    "            distance.append(d)\n",
    "        dataset_without_the_song['distance'] = distance\n",
    "        dataset_without_the_song = dataset_without_the_song.sort_values('distance')\n",
    "        columns = ['artists', 'name']\n",
    "        return dataset_without_the_song[columns][:amount]"
   ]
  },
  {
   "cell_type": "code",
   "execution_count": null,
   "id": "46156044",
   "metadata": {},
   "outputs": [],
   "source": [
    "data"
   ]
  },
  {
   "cell_type": "code",
   "execution_count": null,
   "id": "298cace0",
   "metadata": {},
   "outputs": [],
   "source": [
    "data['artists']= data['artists'].str.extract(r'/[a-zA-Z]+/g')\n",
    "data.head()"
   ]
  },
  {
   "cell_type": "code",
   "execution_count": null,
   "id": "1fd6ecfb-6fe0-4059-a9c5-ed316377d552",
   "metadata": {},
   "outputs": [],
   "source": [
    "data.to_csv('Data/finaldata.csv',index=False)"
   ]
  },
  {
   "cell_type": "code",
   "execution_count": null,
   "id": "6b1799bd",
   "metadata": {},
   "outputs": [],
   "source": [
    "recommendations = Spotify_Recommendation(data)\n",
    "recommendations.recommend(\"Pillowtalk\", 10)"
   ]
  },
  {
   "cell_type": "markdown",
   "id": "b9a9505e",
   "metadata": {},
   "source": [
    "# Popularity Based Recommedation System "
   ]
  },
  {
   "cell_type": "code",
   "execution_count": null,
   "id": "39ac9d0b",
   "metadata": {
    "scrolled": true
   },
   "outputs": [],
   "source": [
    "data.head()"
   ]
  },
  {
   "cell_type": "code",
   "execution_count": null,
   "id": "019e387b",
   "metadata": {},
   "outputs": [],
   "source": [
    "data1 = data.groupby('name').mean()['popularity'].sort_values(ascending=False).head(10)"
   ]
  },
  {
   "cell_type": "code",
   "execution_count": null,
   "id": "6c72a984",
   "metadata": {},
   "outputs": [],
   "source": [
    "data1"
   ]
  },
  {
   "cell_type": "code",
   "execution_count": null,
   "id": "654ee903",
   "metadata": {},
   "outputs": [],
   "source": []
  }
 ],
 "metadata": {
  "kernelspec": {
   "display_name": "Python 3 (ipykernel)",
   "language": "python",
   "name": "python3"
  },
  "language_info": {
   "codemirror_mode": {
    "name": "ipython",
    "version": 3
   },
   "file_extension": ".py",
   "mimetype": "text/x-python",
   "name": "python",
   "nbconvert_exporter": "python",
   "pygments_lexer": "ipython3",
   "version": "3.10.8"
  }
 },
 "nbformat": 4,
 "nbformat_minor": 5
}
